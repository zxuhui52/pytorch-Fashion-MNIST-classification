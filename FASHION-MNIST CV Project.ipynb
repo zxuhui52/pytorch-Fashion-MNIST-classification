{
 "cells": [
  {
   "cell_type": "markdown",
   "id": "450dffbd",
   "metadata": {},
   "source": [
    "# Classify Fashion Object With Images Using PyTorch and Neural Network\n",
    "\n",
    "Using FASHION-MNIST datasets with hundreds thousands of clothes images for classification. Apply ML models in PyTorch framework and 4-layers Neural Network. Implement dropout for overfitting situations."
   ]
  },
  {
   "cell_type": "code",
   "execution_count": null,
   "id": "738a3262",
   "metadata": {},
   "outputs": [],
   "source": [
    "# Download pytorch\n",
    "!pip3 install torch torchvision torchaudio"
   ]
  },
  {
   "cell_type": "code",
   "execution_count": 1,
   "id": "836b4a67",
   "metadata": {},
   "outputs": [],
   "source": [
    "import os\n",
    "os.environ['KMP_DUPLICATE_LIB_OK']='True' # in case kernel die"
   ]
  },
  {
   "cell_type": "code",
   "execution_count": 2,
   "id": "29d3b9f2",
   "metadata": {},
   "outputs": [
    {
     "data": {
      "text/plain": [
       "'1.13.0+cpu'"
      ]
     },
     "execution_count": 2,
     "metadata": {},
     "output_type": "execute_result"
    }
   ],
   "source": [
    "# Check download pytorch successfully with version\n",
    "import torch\n",
    "torch.__version__"
   ]
  },
  {
   "cell_type": "markdown",
   "id": "3c17dc82",
   "metadata": {},
   "source": [
    "## Download and pre-process dataset"
   ]
  },
  {
   "cell_type": "code",
   "execution_count": 3,
   "id": "90731550",
   "metadata": {},
   "outputs": [],
   "source": [
    "from torch import nn, optim \n",
    "import torch.nn.functional as F\n",
    "from torchvision import datasets, transforms\n",
    "\n",
    "# transformer for image standardization\n",
    "transform = transforms.Compose([transforms.ToTensor(),transforms.Normalize((0.5,), (0.5,))])\n",
    "\n",
    "# download Fashion-MNIST, use dataloader, each time load 64 images without order\n",
    "trainset = datasets.FashionMNIST('dataset/', download=True, train=True, transform=transform)\n",
    "trainloader = torch.utils.data.DataLoader(trainset, batch_size=64, shuffle=True)\n",
    "\n",
    "# download Fashion-MNIST use it for test set\n",
    "testset = datasets.FashionMNIST('dataset/', download=True, train=False, transform=transform)\n",
    "testloader = torch.utils.data.DataLoader(testset, batch_size=64, shuffle=True)"
   ]
  },
  {
   "cell_type": "code",
   "execution_count": 4,
   "id": "120d68fe",
   "metadata": {
    "scrolled": false
   },
   "outputs": [
    {
     "data": {
      "text/plain": [
       "<matplotlib.image.AxesImage at 0x17fccea47c0>"
      ]
     },
     "execution_count": 4,
     "metadata": {},
     "output_type": "execute_result"
    },
    {
     "data": {
      "image/png": "[encoded data removed]",
      "text/plain": [
       "<Figure size 640x480 with 1 Axes>"
      ]
     },
     "metadata": {},
     "output_type": "display_data"
    }
   ],
   "source": [
    "# show the image\n",
    "import matplotlib.pyplot as plt\n",
    "%matplotlib inline\n",
    "\n",
    "image, label = next(iter(trainloader))\n",
    "\n",
    "imagedemo = image[10]\n",
    "imagedemolabel = label[10]\n",
    "\n",
    "imagedemo = imagedemo.reshape((28,28))\n",
    "plt.imshow(imagedemo)"
   ]
  },
  {
   "cell_type": "markdown",
   "id": "f7e9553f",
   "metadata": {},
   "source": [
    "Image Label:<br>\n",
    "0 - T-shirt<br>\n",
    "1 - Trouse<br>\n",
    "2 - Pullover<br>\n",
    "3 - Dress<br>\n",
    "4 - Coat<br>\n",
    "5 - Sandal<br>\n",
    "6 - Shirt<br>\n",
    "7 - Sneaker<br>\n",
    "8 - Bag<br>\n",
    "9 - Ankle Boot"
   ]
  },
  {
   "cell_type": "markdown",
   "id": "c3ce2253",
   "metadata": {},
   "source": [
    "## 4-Layer Fully Convolutional Neural Network Construction"
   ]
  },
  {
   "cell_type": "code",
   "execution_count": 5,
   "id": "d4ab458b",
   "metadata": {},
   "outputs": [],
   "source": [
    "# input: 28 * 28 = 784 pixels\n",
    "# First layer: 256 nodes, Second layer: 128 nodes, Third layer: 64 nodes, can modify the node number\n",
    "class Classifier(nn.Module):\n",
    "    def __init__(self):\n",
    "        super().__init__()\n",
    "        self.fc1 = nn.Linear(784, 256)\n",
    "        self.fc2 = nn.Linear(256, 128)\n",
    "        self.fc3 = nn.Linear(128, 64)\n",
    "        self.fc4 = nn.Linear(64, 10)\n",
    "    \n",
    "    def forward(self, x):\n",
    "        # make sure input tensor is flattened\n",
    "        x = x.view(x.shape[0], -1)\n",
    "        \n",
    "        x = F.relu(self.fc1(x))\n",
    "        x = F.relu(self.fc2(x))\n",
    "        x = F.relu(self.fc3(x))\n",
    "        x = F.log_softmax(self.fc4(x), dim=1) # classification\n",
    "        \n",
    "        return x"
   ]
  },
  {
   "cell_type": "code",
   "execution_count": 7,
   "id": "57f9edfc",
   "metadata": {},
   "outputs": [
    {
     "name": "stdout",
     "output_type": "stream",
     "text": [
      "Start training\n",
      "Training: 1/15... Training loss: 0.514... Testing loss: 0.454... Model Classification Accuracy: 0.831\n",
      "Training: 2/15... Training loss: 0.392... Testing loss: 0.393... Model Classification Accuracy: 0.853\n",
      "Training: 3/15... Training loss: 0.353... Testing loss: 0.389... Model Classification Accuracy: 0.860\n",
      "Training: 4/15... Training loss: 0.327... Testing loss: 0.402... Model Classification Accuracy: 0.856\n",
      "Training: 5/15... Training loss: 0.310... Testing loss: 0.386... Model Classification Accuracy: 0.860\n",
      "Training: 6/15... Training loss: 0.300... Testing loss: 0.357... Model Classification Accuracy: 0.875\n",
      "Training: 7/15... Training loss: 0.288... Testing loss: 0.361... Model Classification Accuracy: 0.874\n",
      "Training: 8/15... Training loss: 0.283... Testing loss: 0.364... Model Classification Accuracy: 0.875\n",
      "Training: 9/15... Training loss: 0.273... Testing loss: 0.349... Model Classification Accuracy: 0.878\n",
      "Training: 10/15... Training loss: 0.263... Testing loss: 0.385... Model Classification Accuracy: 0.872\n",
      "Training: 11/15... Training loss: 0.260... Testing loss: 0.354... Model Classification Accuracy: 0.882\n",
      "Training: 12/15... Training loss: 0.251... Testing loss: 0.355... Model Classification Accuracy: 0.881\n",
      "Training: 13/15... Training loss: 0.252... Testing loss: 0.373... Model Classification Accuracy: 0.872\n",
      "Training: 14/15... Training loss: 0.240... Testing loss: 0.376... Model Classification Accuracy: 0.874\n",
      "Training: 15/15... Training loss: 0.237... Testing loss: 0.396... Model Classification Accuracy: 0.871\n"
     ]
    }
   ],
   "source": [
    "# Instantiate the classifier\n",
    "model = Classifier()\n",
    "\n",
    "# Define the loss function as negative log loss function\n",
    "criterion = nn.NLLLoss()\n",
    "\n",
    "# Adam optimizer, learning rate as 0.005\n",
    "optimizer = optim.Adam(model.parameters(), lr=0.003)\n",
    "\n",
    "# train 15 times\n",
    "epochs = 15\n",
    "\n",
    "# store the training losses and testing losses in two list for visualization\n",
    "train_losses, test_losses = [], []\n",
    "\n",
    "print('Start training')\n",
    "\n",
    "# for each training process\n",
    "for e in range(epochs):\n",
    "    running_loss = 0\n",
    "    \n",
    "    # for all images in the train loader\n",
    "    for images, labels in trainloader:\n",
    "        # set 0 of the gradient descent derivative\n",
    "        optimizer.zero_grad()\n",
    "        \n",
    "        # classify 64 images and calculate the loss\n",
    "        log_ps = model(images)\n",
    "        loss = criterion(log_ps, labels)\n",
    "        loss.backward()\n",
    "        optimizer.step()\n",
    "        running_loss += loss.item()\n",
    "        \n",
    "    # after learning the dataset\n",
    "    else:\n",
    "        test_loss = 0\n",
    "        accuracy = 0\n",
    "        with torch.no_grad():\n",
    "            # close dropout\n",
    "            model.eval()\n",
    "            \n",
    "            # all images in the test set\n",
    "            for images, labels in testloader:\n",
    "                log_ps = model(images)\n",
    "                test_loss += criterion(log_ps, labels)\n",
    "                ps = torch.exp(log_ps)\n",
    "                top_p, top_class = ps.topk(1, dim=1)\n",
    "                equals = top_class == labels.view(*top_class.shape)\n",
    "                \n",
    "                accuracy += torch.mean(equals.type(torch.FloatTensor))\n",
    "                \n",
    "        model.train()\n",
    "        train_losses.append(running_loss/len(trainloader))\n",
    "        test_losses.append(test_loss/len(testloader))\n",
    "        \n",
    "        print(\"Training: {}/{}...\".format(e + 1, epochs),\n",
    "              \"Training loss: {:.3f}...\".format(running_loss/len(trainloader)),\n",
    "              \"Testing loss: {:.3f}...\".format(test_loss/len(testloader)),\n",
    "              \"Model Classification Accuracy: {:.3f}\".format(accuracy/len(testloader)))"
   ]
  },
  {
   "cell_type": "markdown",
   "id": "45d19df0",
   "metadata": {},
   "source": [
    "## Validate the Model Performance\n",
    "\n",
    "#### Visulization of the Training loss and Validation loss"
   ]
  },
  {
   "cell_type": "code",
   "execution_count": 9,
   "id": "52d3809a",
   "metadata": {},
   "outputs": [
    {
     "data": {
      "text/plain": [
       "<matplotlib.legend.Legend at 0x17fcd528550>"
      ]
     },
     "execution_count": 9,
     "metadata": {},
     "output_type": "execute_result"
    },
    {
     "data": {
      "image/png": "[encoded data removed]",
      "text/plain": [
       "<Figure size 640x480 with 1 Axes>"
      ]
     },
     "metadata": {},
     "output_type": "display_data"
    }
   ],
   "source": [
    "plt.plot(train_losses, label='Training loss')\n",
    "plt.plot(test_losses, label='Validation loss')\n",
    "plt.legend()"
   ]
  },
  {
   "cell_type": "markdown",
   "id": "f484de74",
   "metadata": {},
   "source": [
    "## Use Dropout Method for Preventting Overfitting"
   ]
  },
  {
   "cell_type": "code",
   "execution_count": 10,
   "id": "11736e64",
   "metadata": {},
   "outputs": [],
   "source": [
    "class Classifier(nn.Module):\n",
    "    def __init__(self):\n",
    "        super().__init__()\n",
    "        self.fc1 = nn.Linear(784, 256)\n",
    "        self.fc2 = nn.Linear(256, 128)\n",
    "        self.fc3 = nn.Linear(128, 64)\n",
    "        self.fc4 = nn.Linear(64, 10)\n",
    "        \n",
    "        # construct dropout, ramdonly turn off 20% nerouns\n",
    "        self.dropout = nn.Dropout(p=0.2)\n",
    "        \n",
    "    def forward(self, x):\n",
    "        x = x.view(x.shape[0], -1)\n",
    "        \n",
    "        x = self.dropout(F.relu(self.fc1(x)))\n",
    "        x = self.dropout(F.relu(self.fc2(x)))\n",
    "        x = self.dropout(F.relu(self.fc3(x)))\n",
    "        \n",
    "        x = F.log_softmax(self.fc4(x), dim=1)\n",
    "        return x"
   ]
  },
  {
   "cell_type": "code",
   "execution_count": 12,
   "id": "8bc464db",
   "metadata": {},
   "outputs": [
    {
     "name": "stdout",
     "output_type": "stream",
     "text": [
      "Start training\n",
      "Training: 1/15... Training loss: 0.613... Testing loss: 0.478... Model Classification Accuracy: 0.832\n",
      "Training: 2/15... Training loss: 0.485... Testing loss: 0.438... Model Classification Accuracy: 0.842\n",
      "Training: 3/15... Training loss: 0.454... Testing loss: 0.431... Model Classification Accuracy: 0.852\n",
      "Training: 4/15... Training loss: 0.435... Testing loss: 0.396... Model Classification Accuracy: 0.856\n",
      "Training: 5/15... Training loss: 0.427... Testing loss: 0.430... Model Classification Accuracy: 0.845\n",
      "Training: 6/15... Training loss: 0.417... Testing loss: 0.393... Model Classification Accuracy: 0.861\n",
      "Training: 7/15... Training loss: 0.405... Testing loss: 0.394... Model Classification Accuracy: 0.862\n",
      "Training: 8/15... Training loss: 0.405... Testing loss: 0.403... Model Classification Accuracy: 0.856\n",
      "Training: 9/15... Training loss: 0.394... Testing loss: 0.413... Model Classification Accuracy: 0.855\n",
      "Training: 10/15... Training loss: 0.389... Testing loss: 0.384... Model Classification Accuracy: 0.865\n",
      "Training: 11/15... Training loss: 0.386... Testing loss: 0.386... Model Classification Accuracy: 0.863\n",
      "Training: 12/15... Training loss: 0.385... Testing loss: 0.385... Model Classification Accuracy: 0.866\n",
      "Training: 13/15... Training loss: 0.382... Testing loss: 0.396... Model Classification Accuracy: 0.863\n",
      "Training: 14/15... Training loss: 0.376... Testing loss: 0.375... Model Classification Accuracy: 0.869\n",
      "Training: 15/15... Training loss: 0.375... Testing loss: 0.391... Model Classification Accuracy: 0.866\n"
     ]
    }
   ],
   "source": [
    "# Re-instantiate the classifier, repeat the process with drop out and see the effect\n",
    "model = Classifier()\n",
    "\n",
    "criterion = nn.NLLLoss()\n",
    "\n",
    "optimizer = optim.Adam(model.parameters(), lr=0.003)\n",
    "\n",
    "epochs = 15\n",
    "\n",
    "train_losses, test_losses = [], []\n",
    "\n",
    "print('Start training')\n",
    "for e in range(epochs):\n",
    "    running_loss = 0\n",
    "    \n",
    "    for images, labels in trainloader:\n",
    "        optimizer.zero_grad()\n",
    "        \n",
    "        log_ps = model(images)\n",
    "        loss = criterion(log_ps, labels)\n",
    "        loss.backward()\n",
    "        optimizer.step()\n",
    "        running_loss += loss.item()\n",
    "    \n",
    "    else:\n",
    "        test_loss = 0\n",
    "        accuracy = 0\n",
    "        with torch.no_grad():\n",
    " \n",
    "            model.eval()\n",
    "            \n",
    "            for images, labels in testloader:\n",
    "                log_ps = model(images)\n",
    "                test_loss += criterion(log_ps, labels)\n",
    "                ps = torch.exp(log_ps)\n",
    "                top_p, top_class = ps.topk(1, dim=1)\n",
    "                equals = top_class == labels.view(*top_class.shape)\n",
    "                \n",
    "                accuracy += torch.mean(equals.type(torch.FloatTensor))\n",
    "                                       \n",
    "        model.train()\n",
    "\n",
    "        train_losses.append(running_loss/len(trainloader))\n",
    "        test_losses.append(test_loss/len(testloader))\n",
    "\n",
    "        print(\"Training: {}/{}...\".format(e + 1, epochs),\n",
    "              \"Training loss: {:.3f}...\".format(running_loss/len(trainloader)),\n",
    "              \"Testing loss: {:.3f}...\".format(test_loss/len(testloader)),\n",
    "              \"Model Classification Accuracy: {:.3f}\".format(accuracy/len(testloader)))"
   ]
  },
  {
   "cell_type": "code",
   "execution_count": 13,
   "id": "39bb08af",
   "metadata": {},
   "outputs": [
    {
     "data": {
      "text/plain": [
       "<matplotlib.legend.Legend at 0x17fcd564730>"
      ]
     },
     "execution_count": 13,
     "metadata": {},
     "output_type": "execute_result"
    },
    {
     "data": {
      "image/png": "[encoded data removed]",
      "text/plain": [
       "<Figure size 640x480 with 1 Axes>"
      ]
     },
     "metadata": {},
     "output_type": "display_data"
    }
   ],
   "source": [
    "plt.plot(train_losses, label='Training loss')\n",
    "plt.plot(test_losses, label='Validation loss')\n",
    "plt.legend()"
   ]
  },
  {
   "cell_type": "code",
   "execution_count": 18,
   "id": "43f5273a",
   "metadata": {},
   "outputs": [
    {
     "name": "stdout",
     "output_type": "stream",
     "text": [
      "The image is classied as a T-shirt，the probability is 95.08011937141418%\n"
     ]
    },
    {
     "data": {
      "image/png": "[encoded data removed]",
      "text/plain": [
       "<Figure size 640x480 with 1 Axes>"
      ]
     },
     "metadata": {},
     "output_type": "display_data"
    }
   ],
   "source": [
    "model.eval()\n",
    "dataiter = iter(testloader)\n",
    "images, labels = next(dataiter)\n",
    "img = images[10]\n",
    "img = img.reshape((28,28)).numpy()\n",
    "plt.imshow(img)\n",
    "\n",
    "img = torch.from_numpy(img)\n",
    "img = img.view(1, 784)\n",
    "\n",
    "# Classify the image\n",
    "with torch.no_grad():\n",
    "    output = model.forward(img)\n",
    "ps = torch.exp(output)\n",
    "\n",
    "top_p, top_class = ps.topk(1, dim=1)\n",
    "labellist = ['T-shirt','Trouse','Pullover','Dress','Coat','Sandal','Shirt','Sneaker','Bag','Ankle Boot']\n",
    "prediction = labellist[top_class]\n",
    "probability = float(top_p)\n",
    "print(f'The image is classied as a {prediction}，the probability is {probability*100}%')"
   ]
  }
 ],
 "metadata": {
  "kernelspec": {
   "display_name": "Python 3 (ipykernel)",
   "language": "python",
   "name": "python3"
  },
  "language_info": {
   "codemirror_mode": {
    "name": "ipython",
    "version": 3
   },
   "file_extension": ".py",
   "mimetype": "text/x-python",
   "name": "python",
   "nbconvert_exporter": "python",
   "pygments_lexer": "ipython3",
   "version": "3.9.13"
  }
 },
 "nbformat": 4,
 "nbformat_minor": 5
}
